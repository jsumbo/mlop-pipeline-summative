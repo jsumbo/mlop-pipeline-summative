{
 "cells": [
  {
   "cell_type": "markdown",
   "metadata": {
    "id": "sKCvjsCcut43"
   },
   "source": [
    "# Diabetes Prediction"
   ]
  },
  {
   "cell_type": "markdown",
   "metadata": {
    "id": "OlnLNi1_MBSL"
   },
   "source": [
    "Link to the Dataset:\n",
    "[Pima Indians Diabetes Database](https://www.kaggle.com/datasets/uciml/pima-indians-diabetes-database)"
   ]
  },
  {
   "cell_type": "markdown",
   "metadata": {},
   "source": [
    "#About Dataset:\n",
    "##`Context`\n",
    "This dataset is originally from the National Institute of Diabetes and Digestive and Kidney Diseases. The objective of the dataset is to diagnostically predict whether or not a patient has diabetes, based on certain diagnostic measurements included in the dataset. Several constraints were placed on the selection of these instances from a larger database. In particular, all patients here are females at least 21 years old of Pima Indian heritage.\n",
    "\n",
    "##`Content`\n",
    "The datasets consists of several medical predictor variables and one target variable, Outcome. Predictor variables includes the number of pregnancies the patient has had, their BMI, insulin level, age, and so on."
   ]
  },
  {
   "cell_type": "code",
   "execution_count": 44,
   "metadata": {
    "ExecuteTime": {
     "end_time": "2024-07-18T15:46:27.249529Z",
     "start_time": "2024-07-18T15:46:23.958126Z"
    },
    "id": "15WXrqvfusaI"
   },
   "outputs": [],
   "source": [
    "import pandas as pd\n",
    "import numpy as np"
   ]
  },
  {
   "cell_type": "code",
   "execution_count": 14,
   "metadata": {
    "ExecuteTime": {
     "end_time": "2024-07-18T15:46:36.909403Z",
     "start_time": "2024-07-18T15:46:36.889008Z"
    },
    "id": "U_W-eavPyLD9"
   },
   "outputs": [],
   "source": [
    "# set seed for reproducibility\n",
    "SEED = 20\n",
    "np.random.seed(SEED)"
   ]
  },
  {
   "cell_type": "code",
   "execution_count": 15,
   "metadata": {
    "ExecuteTime": {
     "end_time": "2024-07-18T15:46:39.202801Z",
     "start_time": "2024-07-18T15:46:38.884451Z"
    },
    "id": "IMwQp-r8ylN9",
    "outputId": "0536acde-c648-465f-bbb2-543d927c0b79"
   },
   "outputs": [
    {
     "data": {
      "text/html": [
       "<div>\n",
       "<style scoped>\n",
       "    .dataframe tbody tr th:only-of-type {\n",
       "        vertical-align: middle;\n",
       "    }\n",
       "\n",
       "    .dataframe tbody tr th {\n",
       "        vertical-align: top;\n",
       "    }\n",
       "\n",
       "    .dataframe thead th {\n",
       "        text-align: right;\n",
       "    }\n",
       "</style>\n",
       "<table border=\"1\" class=\"dataframe\">\n",
       "  <thead>\n",
       "    <tr style=\"text-align: right;\">\n",
       "      <th></th>\n",
       "      <th>Pregnancies</th>\n",
       "      <th>Glucose</th>\n",
       "      <th>BloodPressure</th>\n",
       "      <th>SkinThickness</th>\n",
       "      <th>Insulin</th>\n",
       "      <th>BMI</th>\n",
       "      <th>DiabetesPedigreeFunction</th>\n",
       "      <th>Age</th>\n",
       "      <th>Outcome</th>\n",
       "    </tr>\n",
       "  </thead>\n",
       "  <tbody>\n",
       "    <tr>\n",
       "      <th>0</th>\n",
       "      <td>6</td>\n",
       "      <td>148</td>\n",
       "      <td>72</td>\n",
       "      <td>35</td>\n",
       "      <td>0</td>\n",
       "      <td>33.6</td>\n",
       "      <td>0.627</td>\n",
       "      <td>50</td>\n",
       "      <td>1</td>\n",
       "    </tr>\n",
       "    <tr>\n",
       "      <th>1</th>\n",
       "      <td>1</td>\n",
       "      <td>85</td>\n",
       "      <td>66</td>\n",
       "      <td>29</td>\n",
       "      <td>0</td>\n",
       "      <td>26.6</td>\n",
       "      <td>0.351</td>\n",
       "      <td>31</td>\n",
       "      <td>0</td>\n",
       "    </tr>\n",
       "    <tr>\n",
       "      <th>2</th>\n",
       "      <td>8</td>\n",
       "      <td>183</td>\n",
       "      <td>64</td>\n",
       "      <td>0</td>\n",
       "      <td>0</td>\n",
       "      <td>23.3</td>\n",
       "      <td>0.672</td>\n",
       "      <td>32</td>\n",
       "      <td>1</td>\n",
       "    </tr>\n",
       "    <tr>\n",
       "      <th>3</th>\n",
       "      <td>1</td>\n",
       "      <td>89</td>\n",
       "      <td>66</td>\n",
       "      <td>23</td>\n",
       "      <td>94</td>\n",
       "      <td>28.1</td>\n",
       "      <td>0.167</td>\n",
       "      <td>21</td>\n",
       "      <td>0</td>\n",
       "    </tr>\n",
       "    <tr>\n",
       "      <th>4</th>\n",
       "      <td>0</td>\n",
       "      <td>137</td>\n",
       "      <td>40</td>\n",
       "      <td>35</td>\n",
       "      <td>168</td>\n",
       "      <td>43.1</td>\n",
       "      <td>2.288</td>\n",
       "      <td>33</td>\n",
       "      <td>1</td>\n",
       "    </tr>\n",
       "  </tbody>\n",
       "</table>\n",
       "</div>"
      ],
      "text/plain": [
       "   Pregnancies  Glucose  BloodPressure  SkinThickness  Insulin   BMI  \\\n",
       "0            6      148             72             35        0  33.6   \n",
       "1            1       85             66             29        0  26.6   \n",
       "2            8      183             64              0        0  23.3   \n",
       "3            1       89             66             23       94  28.1   \n",
       "4            0      137             40             35      168  43.1   \n",
       "\n",
       "   DiabetesPedigreeFunction  Age  Outcome  \n",
       "0                     0.627   50        1  \n",
       "1                     0.351   31        0  \n",
       "2                     0.672   32        1  \n",
       "3                     0.167   21        0  \n",
       "4                     2.288   33        1  "
      ]
     },
     "execution_count": 15,
     "metadata": {},
     "output_type": "execute_result"
    }
   ],
   "source": [
    "# Loading Data\n",
    "df = pd.read_csv('../diabetes.csv')\n",
    "df.head()"
   ]
  },
  {
   "cell_type": "markdown",
   "metadata": {
    "id": "UDHUDMCszuNC"
   },
   "source": [
    "# Exploratory Data Analysis"
   ]
  },
  {
   "cell_type": "code",
   "execution_count": 16,
   "metadata": {
    "ExecuteTime": {
     "end_time": "2024-07-18T15:46:41.922609Z",
     "start_time": "2024-07-18T15:46:41.900732Z"
    },
    "id": "Op-XGDHwz03Q",
    "outputId": "c8077d6a-5b62-4096-b952-afa09a7b721e"
   },
   "outputs": [
    {
     "data": {
      "text/plain": [
       "Pregnancies                 0\n",
       "Glucose                     0\n",
       "BloodPressure               0\n",
       "SkinThickness               0\n",
       "Insulin                     0\n",
       "BMI                         0\n",
       "DiabetesPedigreeFunction    0\n",
       "Age                         0\n",
       "Outcome                     0\n",
       "dtype: int64"
      ]
     },
     "execution_count": 16,
     "metadata": {},
     "output_type": "execute_result"
    }
   ],
   "source": [
    "# checking null values\n",
    "df.isnull().sum()"
   ]
  },
  {
   "cell_type": "code",
   "execution_count": 17,
   "metadata": {
    "ExecuteTime": {
     "end_time": "2024-07-18T15:46:44.220081Z",
     "start_time": "2024-07-18T15:46:43.999425Z"
    },
    "id": "v2KDfXpnz9uM",
    "outputId": "dbd3ca88-ef2f-4787-ac8a-890e5fef5e59"
   },
   "outputs": [
    {
     "name": "stdout",
     "output_type": "stream",
     "text": [
      "<class 'pandas.core.frame.DataFrame'>\n",
      "RangeIndex: 768 entries, 0 to 767\n",
      "Data columns (total 9 columns):\n",
      " #   Column                    Non-Null Count  Dtype  \n",
      "---  ------                    --------------  -----  \n",
      " 0   Pregnancies               768 non-null    int64  \n",
      " 1   Glucose                   768 non-null    int64  \n",
      " 2   BloodPressure             768 non-null    int64  \n",
      " 3   SkinThickness             768 non-null    int64  \n",
      " 4   Insulin                   768 non-null    int64  \n",
      " 5   BMI                       768 non-null    float64\n",
      " 6   DiabetesPedigreeFunction  768 non-null    float64\n",
      " 7   Age                       768 non-null    int64  \n",
      " 8   Outcome                   768 non-null    int64  \n",
      "dtypes: float64(2), int64(7)\n",
      "memory usage: 54.1 KB\n"
     ]
    }
   ],
   "source": [
    "df.info()"
   ]
  },
  {
   "cell_type": "code",
   "execution_count": 18,
   "metadata": {
    "ExecuteTime": {
     "end_time": "2024-07-18T15:46:46.515699Z",
     "start_time": "2024-07-18T15:46:46.490055Z"
    },
    "id": "TLK7G2bZ0Da1",
    "outputId": "008eb5ee-2855-490b-9fe5-7b5de7633913"
   },
   "outputs": [
    {
     "name": "stdout",
     "output_type": "stream",
     "text": [
      "Columns with zero values:\n",
      "Pregnancies      111\n",
      "Glucose            5\n",
      "BloodPressure     35\n",
      "SkinThickness    227\n",
      "Insulin          374\n",
      "BMI               11\n",
      "Outcome          500\n",
      "dtype: int64\n"
     ]
    }
   ],
   "source": [
    "# Check for zero values in all columns\n",
    "zero_values = (df == 0).sum()\n",
    "\n",
    "# Display the columns with zero values\n",
    "print(\"Columns with zero values:\")\n",
    "print(zero_values[zero_values > 0])\n"
   ]
  },
  {
   "cell_type": "markdown",
   "metadata": {
    "id": "jEeynUVD2xLj"
   },
   "source": [
    "We have many zero values will definetely effect the model accuracy. We need to convert them with `nan` values."
   ]
  },
  {
   "cell_type": "markdown",
   "metadata": {
    "id": "iaA2ntx93pID"
   },
   "source": [
    "Function to replace zero values with `nan`"
   ]
  },
  {
   "cell_type": "code",
   "execution_count": 19,
   "metadata": {
    "ExecuteTime": {
     "end_time": "2024-07-18T15:46:52.530444Z",
     "start_time": "2024-07-18T15:46:52.498985Z"
    },
    "id": "GnLelDTD3SHW"
   },
   "outputs": [],
   "source": [
    "def replace_zero(df):\n",
    "    df_nan=df.copy(deep=True)\n",
    "    cols = [\"Glucose\",\"BloodPressure\",\"SkinThickness\",\"Insulin\",\"BMI\"]\n",
    "    df_nan[cols] = df_nan[cols].replace({0:np.nan})\n",
    "    return df_nan\n",
    "df_nan=replace_zero(df)"
   ]
  },
  {
   "cell_type": "code",
   "execution_count": 20,
   "metadata": {
    "ExecuteTime": {
     "end_time": "2024-07-18T15:46:54.275586Z",
     "start_time": "2024-07-18T15:46:54.253076Z"
    },
    "id": "3-Bcd4Av6vN7"
   },
   "outputs": [],
   "source": [
    "def find_median(frame,var):\n",
    "    temp = frame[frame[var].notnull()]\n",
    "    temp = frame[[var,'Outcome']].groupby('Outcome')[[var]].median().reset_index()\n",
    "    return temp"
   ]
  },
  {
   "cell_type": "code",
   "execution_count": 21,
   "metadata": {
    "ExecuteTime": {
     "end_time": "2024-07-18T15:46:57.148471Z",
     "start_time": "2024-07-18T15:46:57.131708Z"
    },
    "id": "ssojfaBmEEdU"
   },
   "outputs": [],
   "source": [
    "# function to replace null values\n",
    "def replace_null(frame,var):\n",
    "    median_df=find_median(frame,var)\n",
    "    var_0=median_df[var].iloc[0]\n",
    "    var_1=median_df[var].iloc[1]\n",
    "    frame.loc[(frame['Outcome'] == 0) & (frame[var].isnull()), var] = var_0\n",
    "    frame.loc[(frame['Outcome'] == 1) & (frame[var].isnull()), var] = var_1\n",
    "    return frame[var].isnull().sum()"
   ]
  },
  {
   "cell_type": "code",
   "execution_count": 22,
   "metadata": {
    "ExecuteTime": {
     "end_time": "2024-07-18T15:46:59.155694Z",
     "start_time": "2024-07-18T15:46:58.827362Z"
    },
    "id": "6cskyYbwJ7x2",
    "outputId": "2ae22726-a2b7-42b0-ee52-a1b3b212ed31"
   },
   "outputs": [
    {
     "name": "stdout",
     "output_type": "stream",
     "text": [
      "0 Nulls for Glucose\n",
      "0 Nulls for SkinThickness\n",
      "0 Nulls for Insulin\n",
      "0 Nulls for BMI\n",
      "0 Nulls for BloodPressure\n"
     ]
    }
   ],
   "source": [
    "print(str(replace_null(df_nan,'Glucose'))+ ' Nulls for Glucose')\n",
    "print(str(replace_null(df_nan,'SkinThickness'))+ ' Nulls for SkinThickness')\n",
    "print(str(replace_null(df_nan,'Insulin'))+ ' Nulls for Insulin')\n",
    "print(str(replace_null(df_nan,'BMI'))+ ' Nulls for BMI')\n",
    "print(str(replace_null(df_nan,'BloodPressure'))+ ' Nulls for BloodPressure')\n",
    "# We have successfully handled Nulls"
   ]
  },
  {
   "cell_type": "markdown",
   "metadata": {
    "id": "kdfwbmMPNtPk"
   },
   "source": [
    "All null values has been successfully imputed with their median.\n"
   ]
  },
  {
   "cell_type": "markdown",
   "metadata": {
    "id": "ZVaqZn1gRUka"
   },
   "source": [
    "### Data Scaling"
   ]
  },
  {
   "cell_type": "code",
   "execution_count": 23,
   "metadata": {
    "ExecuteTime": {
     "end_time": "2024-07-18T15:47:09.660724Z",
     "start_time": "2024-07-18T15:47:03.499699Z"
    },
    "id": "9Qs7jc7tP4hm"
   },
   "outputs": [],
   "source": [
    "# We need to scale our data for uniformity.\n",
    "from sklearn.preprocessing import StandardScaler\n",
    "def std_scalar(df):\n",
    "    std_X = StandardScaler()\n",
    "    x =  pd.DataFrame(std_X.fit_transform(df.drop([\"Outcome\"],axis = 1),),\n",
    "            columns=['Pregnancies', 'Glucose', 'BloodPressure', 'SkinThickness', 'Insulin',\n",
    "           'BMI', 'DiabetesPedigreeFunction', 'Age'])\n",
    "    y=df[\"Outcome\"]\n",
    "    return x,y,std_X"
   ]
  },
  {
   "cell_type": "markdown",
   "metadata": {
    "id": "ZxP07JgErNe0"
   },
   "source": [
    "### Data After Scaling"
   ]
  },
  {
   "cell_type": "code",
   "execution_count": 24,
   "metadata": {
    "ExecuteTime": {
     "end_time": "2024-07-18T15:47:12.616727Z",
     "start_time": "2024-07-18T15:47:12.462416Z"
    },
    "id": "l6X0376grUV_",
    "outputId": "b8dbf124-ad02-4008-846f-cf9cd603b449"
   },
   "outputs": [
    {
     "data": {
      "text/html": [
       "<div>\n",
       "<style scoped>\n",
       "    .dataframe tbody tr th:only-of-type {\n",
       "        vertical-align: middle;\n",
       "    }\n",
       "\n",
       "    .dataframe tbody tr th {\n",
       "        vertical-align: top;\n",
       "    }\n",
       "\n",
       "    .dataframe thead th {\n",
       "        text-align: right;\n",
       "    }\n",
       "</style>\n",
       "<table border=\"1\" class=\"dataframe\">\n",
       "  <thead>\n",
       "    <tr style=\"text-align: right;\">\n",
       "      <th></th>\n",
       "      <th>Pregnancies</th>\n",
       "      <th>Glucose</th>\n",
       "      <th>BloodPressure</th>\n",
       "      <th>SkinThickness</th>\n",
       "      <th>Insulin</th>\n",
       "      <th>BMI</th>\n",
       "      <th>DiabetesPedigreeFunction</th>\n",
       "      <th>Age</th>\n",
       "    </tr>\n",
       "  </thead>\n",
       "  <tbody>\n",
       "    <tr>\n",
       "      <th>count</th>\n",
       "      <td>7.680000e+02</td>\n",
       "      <td>7.680000e+02</td>\n",
       "      <td>7.680000e+02</td>\n",
       "      <td>7.680000e+02</td>\n",
       "      <td>7.680000e+02</td>\n",
       "      <td>7.680000e+02</td>\n",
       "      <td>7.680000e+02</td>\n",
       "      <td>7.680000e+02</td>\n",
       "    </tr>\n",
       "    <tr>\n",
       "      <th>mean</th>\n",
       "      <td>-6.476301e-17</td>\n",
       "      <td>1.480297e-16</td>\n",
       "      <td>-3.978299e-16</td>\n",
       "      <td>8.095376e-18</td>\n",
       "      <td>-3.469447e-18</td>\n",
       "      <td>1.318390e-16</td>\n",
       "      <td>2.451743e-16</td>\n",
       "      <td>1.931325e-16</td>\n",
       "    </tr>\n",
       "    <tr>\n",
       "      <th>std</th>\n",
       "      <td>1.000652e+00</td>\n",
       "      <td>1.000652e+00</td>\n",
       "      <td>1.000652e+00</td>\n",
       "      <td>1.000652e+00</td>\n",
       "      <td>1.000652e+00</td>\n",
       "      <td>1.000652e+00</td>\n",
       "      <td>1.000652e+00</td>\n",
       "      <td>1.000652e+00</td>\n",
       "    </tr>\n",
       "    <tr>\n",
       "      <th>min</th>\n",
       "      <td>-1.141852e+00</td>\n",
       "      <td>-2.551447e+00</td>\n",
       "      <td>-3.999727e+00</td>\n",
       "      <td>-2.486187e+00</td>\n",
       "      <td>-1.434747e+00</td>\n",
       "      <td>-2.070186e+00</td>\n",
       "      <td>-1.189553e+00</td>\n",
       "      <td>-1.041549e+00</td>\n",
       "    </tr>\n",
       "    <tr>\n",
       "      <th>25%</th>\n",
       "      <td>-8.448851e-01</td>\n",
       "      <td>-7.202356e-01</td>\n",
       "      <td>-6.934382e-01</td>\n",
       "      <td>-4.603073e-01</td>\n",
       "      <td>-4.408430e-01</td>\n",
       "      <td>-7.176590e-01</td>\n",
       "      <td>-6.889685e-01</td>\n",
       "      <td>-7.862862e-01</td>\n",
       "    </tr>\n",
       "    <tr>\n",
       "      <th>50%</th>\n",
       "      <td>-2.509521e-01</td>\n",
       "      <td>-1.536274e-01</td>\n",
       "      <td>-3.218035e-02</td>\n",
       "      <td>-1.226607e-01</td>\n",
       "      <td>-4.408430e-01</td>\n",
       "      <td>-5.593870e-02</td>\n",
       "      <td>-3.001282e-01</td>\n",
       "      <td>-3.608474e-01</td>\n",
       "    </tr>\n",
       "    <tr>\n",
       "      <th>75%</th>\n",
       "      <td>6.399473e-01</td>\n",
       "      <td>6.100618e-01</td>\n",
       "      <td>6.290775e-01</td>\n",
       "      <td>3.275348e-01</td>\n",
       "      <td>3.116039e-01</td>\n",
       "      <td>6.057816e-01</td>\n",
       "      <td>4.662269e-01</td>\n",
       "      <td>6.602056e-01</td>\n",
       "    </tr>\n",
       "    <tr>\n",
       "      <th>max</th>\n",
       "      <td>3.906578e+00</td>\n",
       "      <td>2.539814e+00</td>\n",
       "      <td>4.100681e+00</td>\n",
       "      <td>7.868309e+00</td>\n",
       "      <td>7.909072e+00</td>\n",
       "      <td>5.041489e+00</td>\n",
       "      <td>5.883565e+00</td>\n",
       "      <td>4.063716e+00</td>\n",
       "    </tr>\n",
       "  </tbody>\n",
       "</table>\n",
       "</div>"
      ],
      "text/plain": [
       "        Pregnancies       Glucose  BloodPressure  SkinThickness       Insulin  \\\n",
       "count  7.680000e+02  7.680000e+02   7.680000e+02   7.680000e+02  7.680000e+02   \n",
       "mean  -6.476301e-17  1.480297e-16  -3.978299e-16   8.095376e-18 -3.469447e-18   \n",
       "std    1.000652e+00  1.000652e+00   1.000652e+00   1.000652e+00  1.000652e+00   \n",
       "min   -1.141852e+00 -2.551447e+00  -3.999727e+00  -2.486187e+00 -1.434747e+00   \n",
       "25%   -8.448851e-01 -7.202356e-01  -6.934382e-01  -4.603073e-01 -4.408430e-01   \n",
       "50%   -2.509521e-01 -1.536274e-01  -3.218035e-02  -1.226607e-01 -4.408430e-01   \n",
       "75%    6.399473e-01  6.100618e-01   6.290775e-01   3.275348e-01  3.116039e-01   \n",
       "max    3.906578e+00  2.539814e+00   4.100681e+00   7.868309e+00  7.909072e+00   \n",
       "\n",
       "                BMI  DiabetesPedigreeFunction           Age  \n",
       "count  7.680000e+02              7.680000e+02  7.680000e+02  \n",
       "mean   1.318390e-16              2.451743e-16  1.931325e-16  \n",
       "std    1.000652e+00              1.000652e+00  1.000652e+00  \n",
       "min   -2.070186e+00             -1.189553e+00 -1.041549e+00  \n",
       "25%   -7.176590e-01             -6.889685e-01 -7.862862e-01  \n",
       "50%   -5.593870e-02             -3.001282e-01 -3.608474e-01  \n",
       "75%    6.057816e-01              4.662269e-01  6.602056e-01  \n",
       "max    5.041489e+00              5.883565e+00  4.063716e+00  "
      ]
     },
     "execution_count": 24,
     "metadata": {},
     "output_type": "execute_result"
    }
   ],
   "source": [
    "X,Y, scaler = std_scalar(df_nan)\n",
    "X.describe()"
   ]
  },
  {
   "cell_type": "code",
   "execution_count": 25,
   "metadata": {
    "ExecuteTime": {
     "end_time": "2024-07-18T15:47:16.090340Z",
     "start_time": "2024-07-18T15:47:16.075540Z"
    },
    "id": "aMWHNx_LrVdJ"
   },
   "outputs": [],
   "source": [
    "std_x = StandardScaler()"
   ]
  },
  {
   "cell_type": "code",
   "execution_count": 26,
   "metadata": {
    "ExecuteTime": {
     "end_time": "2024-07-18T15:47:19.933933Z",
     "start_time": "2024-07-18T15:47:19.384152Z"
    },
    "id": "w-2tL4uR0rR6"
   },
   "outputs": [
    {
     "name": "stdout",
     "output_type": "stream",
     "text": [
      "     Pregnancies   Glucose  BloodPressure  SkinThickness   Insulin       BMI  \\\n",
      "162    -1.141852 -0.252168       0.629077       0.552633  1.608733  1.711073   \n",
      "620    -0.547919 -0.317862       1.125021       1.453023  0.204914  0.867561   \n",
      "233     0.046014  0.010607      -0.362809      -0.235210 -0.440843  0.373089   \n",
      "438    -0.844885 -0.810564      -0.197495      -1.585796 -0.440843 -2.070186   \n",
      "660     1.827813  1.324481       0.959706      -0.235210 -0.440843 -0.688572   \n",
      "..           ...       ...            ...            ...       ...       ...   \n",
      "123     0.342981  0.339075       0.629077      -0.235210 -0.440843 -0.819462   \n",
      "222     0.936914 -0.087934      -0.197495      -0.235210 -0.440843 -1.052155   \n",
      "52      0.342981 -1.106186      -0.528124      -0.910503 -1.333672 -1.168501   \n",
      "541    -0.250952  0.207688      -0.032180      -0.460307  0.541830 -0.005037   \n",
      "439     0.639947 -0.482096       1.290335      -0.235210 -0.440843  0.634868   \n",
      "\n",
      "     DiabetesPedigreeFunction       Age  \n",
      "162                 -0.920763 -0.531023  \n",
      "620                 -0.682173 -0.445935  \n",
      "233                 -0.235196 -0.360847  \n",
      "438                 -0.981165 -1.041549  \n",
      "660                 -0.875461  1.766346  \n",
      "..                        ...       ...  \n",
      "123                 -0.863380  3.042663  \n",
      "222                 -0.793918  0.319855  \n",
      "52                  -0.392242 -0.275760  \n",
      "541                  0.232923 -0.531023  \n",
      "439                  0.770504 -0.190672  \n",
      "\n",
      "[154 rows x 8 columns]\n"
     ]
    },
    {
     "data": {
      "text/html": [
       "<div>\n",
       "<style scoped>\n",
       "    .dataframe tbody tr th:only-of-type {\n",
       "        vertical-align: middle;\n",
       "    }\n",
       "\n",
       "    .dataframe tbody tr th {\n",
       "        vertical-align: top;\n",
       "    }\n",
       "\n",
       "    .dataframe thead th {\n",
       "        text-align: right;\n",
       "    }\n",
       "</style>\n",
       "<table border=\"1\" class=\"dataframe\">\n",
       "  <thead>\n",
       "    <tr style=\"text-align: right;\">\n",
       "      <th></th>\n",
       "      <th>Pregnancies</th>\n",
       "      <th>Glucose</th>\n",
       "      <th>BloodPressure</th>\n",
       "      <th>SkinThickness</th>\n",
       "      <th>Insulin</th>\n",
       "      <th>BMI</th>\n",
       "      <th>DiabetesPedigreeFunction</th>\n",
       "      <th>Age</th>\n",
       "    </tr>\n",
       "  </thead>\n",
       "  <tbody>\n",
       "    <tr>\n",
       "      <th>162</th>\n",
       "      <td>-1.141852</td>\n",
       "      <td>-0.252168</td>\n",
       "      <td>0.629077</td>\n",
       "      <td>0.552633</td>\n",
       "      <td>1.608733</td>\n",
       "      <td>1.711073</td>\n",
       "      <td>-0.920763</td>\n",
       "      <td>-0.531023</td>\n",
       "    </tr>\n",
       "    <tr>\n",
       "      <th>620</th>\n",
       "      <td>-0.547919</td>\n",
       "      <td>-0.317862</td>\n",
       "      <td>1.125021</td>\n",
       "      <td>1.453023</td>\n",
       "      <td>0.204914</td>\n",
       "      <td>0.867561</td>\n",
       "      <td>-0.682173</td>\n",
       "      <td>-0.445935</td>\n",
       "    </tr>\n",
       "    <tr>\n",
       "      <th>233</th>\n",
       "      <td>0.046014</td>\n",
       "      <td>0.010607</td>\n",
       "      <td>-0.362809</td>\n",
       "      <td>-0.235210</td>\n",
       "      <td>-0.440843</td>\n",
       "      <td>0.373089</td>\n",
       "      <td>-0.235196</td>\n",
       "      <td>-0.360847</td>\n",
       "    </tr>\n",
       "    <tr>\n",
       "      <th>438</th>\n",
       "      <td>-0.844885</td>\n",
       "      <td>-0.810564</td>\n",
       "      <td>-0.197495</td>\n",
       "      <td>-1.585796</td>\n",
       "      <td>-0.440843</td>\n",
       "      <td>-2.070186</td>\n",
       "      <td>-0.981165</td>\n",
       "      <td>-1.041549</td>\n",
       "    </tr>\n",
       "    <tr>\n",
       "      <th>660</th>\n",
       "      <td>1.827813</td>\n",
       "      <td>1.324481</td>\n",
       "      <td>0.959706</td>\n",
       "      <td>-0.235210</td>\n",
       "      <td>-0.440843</td>\n",
       "      <td>-0.688572</td>\n",
       "      <td>-0.875461</td>\n",
       "      <td>1.766346</td>\n",
       "    </tr>\n",
       "  </tbody>\n",
       "</table>\n",
       "</div>"
      ],
      "text/plain": [
       "     Pregnancies   Glucose  BloodPressure  SkinThickness   Insulin       BMI  \\\n",
       "162    -1.141852 -0.252168       0.629077       0.552633  1.608733  1.711073   \n",
       "620    -0.547919 -0.317862       1.125021       1.453023  0.204914  0.867561   \n",
       "233     0.046014  0.010607      -0.362809      -0.235210 -0.440843  0.373089   \n",
       "438    -0.844885 -0.810564      -0.197495      -1.585796 -0.440843 -2.070186   \n",
       "660     1.827813  1.324481       0.959706      -0.235210 -0.440843 -0.688572   \n",
       "\n",
       "     DiabetesPedigreeFunction       Age  \n",
       "162                 -0.920763 -0.531023  \n",
       "620                 -0.682173 -0.445935  \n",
       "233                 -0.235196 -0.360847  \n",
       "438                 -0.981165 -1.041549  \n",
       "660                 -0.875461  1.766346  "
      ]
     },
     "execution_count": 26,
     "metadata": {},
     "output_type": "execute_result"
    }
   ],
   "source": [
    "from sklearn.model_selection import train_test_split\n",
    "X_train, X_test, y_train, y_test = train_test_split(X, Y, test_size=0.2, random_state=20, stratify=Y)\n",
    "df_x = pd.DataFrame(X_test)\n",
    "df_y = pd.DataFrame(y_test)\n",
    "print(df_x)\n",
    "df_x.head()\n"
   ]
  },
  {
   "cell_type": "markdown",
   "metadata": {
    "id": "ZWzMjrlu1iFL"
   },
   "source": [
    "Let's implement KNN"
   ]
  },
  {
   "cell_type": "code",
   "execution_count": 28,
   "metadata": {
    "ExecuteTime": {
     "end_time": "2024-07-18T15:47:28.865504Z",
     "start_time": "2024-07-18T15:47:25.192844Z"
    },
    "id": "o_YSWzUc9qPJ"
   },
   "outputs": [],
   "source": [
    "from sklearn.neighbors import KNeighborsClassifier\n",
    "test_score = []\n",
    "train_score = []\n",
    "for i in range(5,15):\n",
    "    neigh = KNeighborsClassifier(n_neighbors=i)\n",
    "    neigh.fit(X_train, y_train)\n",
    "    train_score.append(neigh.score(X_train,y_train))\n",
    "    test_score.append(neigh.score(X_test,y_test))"
   ]
  },
  {
   "cell_type": "code",
   "execution_count": 29,
   "metadata": {
    "ExecuteTime": {
     "end_time": "2024-07-18T15:47:30.319196Z",
     "start_time": "2024-07-18T15:47:30.302647Z"
    },
    "id": "3JuDuztv1xWs",
    "outputId": "2b650173-8a87-4a1f-dd8b-ef00e507ce4e"
   },
   "outputs": [
    {
     "name": "stdout",
     "output_type": "stream",
     "text": [
      "Max train_scores is 85.66775244299674 for k = 5\n"
     ]
    }
   ],
   "source": [
    "print('Max train_scores is ' + str(max(train_score)*100) + ' for k = '+\n",
    "      str(train_score.index(max(train_score))+5))"
   ]
  },
  {
   "cell_type": "code",
   "execution_count": 30,
   "metadata": {
    "ExecuteTime": {
     "end_time": "2024-07-18T15:47:33.647199Z",
     "start_time": "2024-07-18T15:47:33.633876Z"
    },
    "id": "Iz4yLuzf41AY",
    "outputId": "66337571-0695-495d-b060-13dc89ad541c"
   },
   "outputs": [
    {
     "name": "stdout",
     "output_type": "stream",
     "text": [
      "Max test_scores is 87.01298701298701k =13\n"
     ]
    }
   ],
   "source": [
    "print('Max test_scores is ' + str(max(test_score)*100) + \"k =\"+\n",
    "      str(test_score.index(max(test_score))+5))"
   ]
  },
  {
   "cell_type": "markdown",
   "metadata": {
    "id": "E0e1Z_F6PT-k"
   },
   "source": [
    "###Logistic regression"
   ]
  },
  {
   "cell_type": "code",
   "execution_count": 31,
   "metadata": {
    "ExecuteTime": {
     "end_time": "2024-07-18T15:47:40.488204Z",
     "start_time": "2024-07-18T15:47:40.233646Z"
    },
    "id": "acvWDr2k-983",
    "outputId": "1318f3e9-bef0-4864-ca90-188788d88bb3"
   },
   "outputs": [
    {
     "data": {
      "text/plain": [
       "0.8311688311688312"
      ]
     },
     "execution_count": 31,
     "metadata": {},
     "output_type": "execute_result"
    }
   ],
   "source": [
    "# Lets try Logistic regression now\n",
    "from sklearn.linear_model import LogisticRegression\n",
    "log_model = LogisticRegression(random_state=20, penalty='l2').fit(X_train, y_train)\n",
    "log_pred=log_model.predict(X_test)\n",
    "log_model.score(X_test, y_test)"
   ]
  },
  {
   "cell_type": "markdown",
   "metadata": {
    "id": "g4FG8fltpvRr"
   },
   "source": [
    "### SVC"
   ]
  },
  {
   "cell_type": "code",
   "execution_count": 32,
   "metadata": {
    "ExecuteTime": {
     "end_time": "2024-07-18T15:47:47.980450Z",
     "start_time": "2024-07-18T15:47:47.755496Z"
    },
    "id": "C-VvIB1wovy2",
    "outputId": "b8a75210-3620-474e-bf9a-e9680e67a1e7"
   },
   "outputs": [
    {
     "data": {
      "text/plain": [
       "0.8896103896103896"
      ]
     },
     "execution_count": 32,
     "metadata": {},
     "output_type": "execute_result"
    }
   ],
   "source": [
    "from sklearn import svm\n",
    "svm_model = svm.SVC(probability=True).fit(X_train, y_train)\n",
    "svm_pred=svm_model.predict(X_test)\n",
    "svm_model.score(X_test, y_test)"
   ]
  },
  {
   "cell_type": "markdown",
   "metadata": {
    "id": "7clERX5Bs0fs"
   },
   "source": [
    "Model Accuracy Confirmation"
   ]
  },
  {
   "cell_type": "code",
   "execution_count": 33,
   "metadata": {
    "ExecuteTime": {
     "end_time": "2024-07-18T15:47:53.856531Z",
     "start_time": "2024-07-18T15:47:53.839279Z"
    },
    "id": "e03EGUNZpqZE"
   },
   "outputs": [],
   "source": [
    "def model_pref(pred, y_test):\n",
    "  cmp = []\n",
    "  for i, j in zip(pred, y_test):\n",
    "    if i == j:\n",
    "      cmp.append(1)\n",
    "    else:\n",
    "      cmp.append(0)\n",
    "  return cmp"
   ]
  },
  {
   "cell_type": "code",
   "execution_count": 34,
   "metadata": {
    "ExecuteTime": {
     "end_time": "2024-07-18T15:47:56.586711Z",
     "start_time": "2024-07-18T15:47:56.564457Z"
    },
    "id": "B95nMn86r-pj"
   },
   "outputs": [],
   "source": [
    "cmp =model_pref(svm_pred, y_test)"
   ]
  },
  {
   "cell_type": "code",
   "execution_count": 35,
   "metadata": {
    "ExecuteTime": {
     "end_time": "2024-07-18T15:47:58.017135Z",
     "start_time": "2024-07-18T15:47:58.000089Z"
    },
    "id": "Ua0naiLPsFfP",
    "outputId": "9363c38e-0c0e-4572-c77a-247315c0d2ff"
   },
   "outputs": [
    {
     "name": "stdout",
     "output_type": "stream",
     "text": [
      "Model Accuracy Confirmation: 0.8896103896103896\n"
     ]
    }
   ],
   "source": [
    "print(\"Model Accuracy Confirmation: \" +str(cmp.count(1)/len(y_test)))"
   ]
  },
  {
   "cell_type": "markdown",
   "metadata": {
    "id": "OoV90AvltAnc"
   },
   "source": [
    "### RandomForest"
   ]
  },
  {
   "cell_type": "code",
   "execution_count": 36,
   "metadata": {
    "ExecuteTime": {
     "end_time": "2024-06-29T08:44:38.122668Z",
     "start_time": "2024-06-29T08:44:36.954747Z"
    },
    "id": "bPBpZBCAsbqT",
    "outputId": "1f3e112e-663a-4f43-da8b-de1777c67fe7"
   },
   "outputs": [
    {
     "data": {
      "text/plain": [
       "0.8571428571428571"
      ]
     },
     "execution_count": 36,
     "metadata": {},
     "output_type": "execute_result"
    }
   ],
   "source": [
    "from sklearn.ensemble import RandomForestClassifier\n",
    "rf_model = RandomForestClassifier(max_depth=2, random_state=20).fit(X_train, y_train)\n",
    "rf_pred=rf_model.predict(X_test)\n",
    "rf_model.score(X_test, y_test)"
   ]
  },
  {
   "cell_type": "markdown",
   "metadata": {
    "id": "tEiQGgeOPbGF"
   },
   "source": [
    "###Training Deep neural network"
   ]
  },
  {
   "cell_type": "code",
   "execution_count": null,
   "metadata": {},
   "outputs": [],
   "source": [
    "# DO NOT RUN THIS CELL\n",
    "import tensorflow as tf\n",
    "def build_model():\n",
    "  model = tf.keras.Sequential([\n",
    "      tf.keras.layers.Dense(8, activation = 'relu', input_shape=[len(X_train.keys())]),\n",
    "      tf.keras.layers.Dense(4, activation = 'relu'),\n",
    "      tf.keras.layers.Dense(2, activation = 'relu'),\n",
    "      tf.keras.layers.Dense(1, activation = 'sigmoid')\n",
    "\n",
    "  ])\n",
    "\n",
    "\n",
    "  optimizer = tf.keras.optimizers.Adam(learning_rate=0.01, beta_1=0.9, beta_2=0.999, epsilon=1e-07)\n",
    "  model.compile(loss= 'binary_crossentropy', optimizer = optimizer, metrics = ['accuracy'])\n",
    "  return model\n",
    "neural_model = build_model()"
   ]
  },
  {
   "cell_type": "code",
   "execution_count": null,
   "metadata": {
    "execution": {
     "iopub.execute_input": "2024-05-15T03:21:11.299619Z",
     "iopub.status.busy": "2024-05-15T03:21:11.298816Z",
     "iopub.status.idle": "2024-05-15T03:21:11.329248Z",
     "shell.execute_reply": "2024-05-15T03:21:11.327081Z",
     "shell.execute_reply.started": "2024-05-15T03:21:11.299578Z"
    },
    "id": "ngQMjd8BvRvN",
    "outputId": "b683c9ed-da6a-417e-b3e7-4406e67cee19"
   },
   "outputs": [],
   "source": [
    "# DO NOT RUN THIS CELL \n",
    "neural_model.summary()"
   ]
  },
  {
   "cell_type": "markdown",
   "metadata": {
    "id": "vYvc1dEmHo9X"
   },
   "source": [
    "Fit Neural model on dataset."
   ]
  },
  {
   "cell_type": "code",
   "execution_count": null,
   "metadata": {},
   "outputs": [],
   "source": [
    "neural_pred = neural_model.fit(X_train, y_train, validation_split=0.1, verbose=2, epochs=1000)"
   ]
  },
  {
   "cell_type": "code",
   "execution_count": null,
   "metadata": {
    "execution": {
     "iopub.execute_input": "2024-05-15T03:23:08.957514Z",
     "iopub.status.busy": "2024-05-15T03:23:08.95657Z",
     "iopub.status.idle": "2024-05-15T03:23:08.975405Z",
     "shell.execute_reply": "2024-05-15T03:23:08.973957Z",
     "shell.execute_reply.started": "2024-05-15T03:23:08.957473Z"
    },
    "id": "5xa0NIi-ILEl",
    "outputId": "2445e750-eab7-4c9e-cc03-731809d2b3ba"
   },
   "outputs": [],
   "source": [
    "# Lets measure final performance\n",
    "hist = pd.DataFrame(neural_pred.history)\n",
    "hist['epoch'] = neural_pred.epoch\n",
    "hist.tail()"
   ]
  },
  {
   "cell_type": "code",
   "execution_count": null,
   "metadata": {
    "execution": {
     "iopub.execute_input": "2024-05-15T03:23:08.981388Z",
     "iopub.status.busy": "2024-05-15T03:23:08.981015Z",
     "iopub.status.idle": "2024-05-15T03:23:09.177267Z",
     "shell.execute_reply": "2024-05-15T03:23:09.175865Z",
     "shell.execute_reply.started": "2024-05-15T03:23:08.981359Z"
    },
    "id": "0EPgaU-3GLIf",
    "outputId": "53a552f8-63ad-4de2-a64f-0e51a01ccd00"
   },
   "outputs": [],
   "source": [
    "neural_test = neural_model.predict(X_test)"
   ]
  },
  {
   "cell_type": "code",
   "execution_count": null,
   "metadata": {
    "execution": {
     "iopub.execute_input": "2024-05-15T03:23:09.180261Z",
     "iopub.status.busy": "2024-05-15T03:23:09.179361Z",
     "iopub.status.idle": "2024-05-15T03:23:09.186362Z",
     "shell.execute_reply": "2024-05-15T03:23:09.185147Z",
     "shell.execute_reply.started": "2024-05-15T03:23:09.180225Z"
    },
    "id": "i2dYRKOnH8lO"
   },
   "outputs": [],
   "source": [
    "neural_test_converted=[]\n",
    "for i in neural_test:\n",
    "    if i>0.5:\n",
    "        neural_test_converted.append(1)\n",
    "    else:\n",
    "        neural_test_converted.append(0)"
   ]
  },
  {
   "cell_type": "code",
   "execution_count": null,
   "metadata": {
    "execution": {
     "iopub.execute_input": "2024-05-15T03:23:09.187859Z",
     "iopub.status.busy": "2024-05-15T03:23:09.187537Z",
     "iopub.status.idle": "2024-05-15T03:23:09.197798Z",
     "shell.execute_reply": "2024-05-15T03:23:09.196933Z",
     "shell.execute_reply.started": "2024-05-15T03:23:09.187833Z"
    },
    "id": "dp3rDiWtITG4"
   },
   "outputs": [],
   "source": [
    "cmp = model_pref(neural_test_converted, y_test)"
   ]
  },
  {
   "cell_type": "code",
   "execution_count": 40,
   "metadata": {
    "execution": {
     "iopub.execute_input": "2024-05-15T03:23:09.199725Z",
     "iopub.status.busy": "2024-05-15T03:23:09.198862Z",
     "iopub.status.idle": "2024-05-15T03:23:09.210728Z",
     "shell.execute_reply": "2024-05-15T03:23:09.209505Z",
     "shell.execute_reply.started": "2024-05-15T03:23:09.199692Z"
    },
    "id": "c2_dVl3EIvmd",
    "outputId": "3304617c-4940-4d94-a0a9-3d1219728258"
   },
   "outputs": [
    {
     "name": "stdout",
     "output_type": "stream",
     "text": [
      "Test Accuracy:  88.96%\n"
     ]
    }
   ],
   "source": [
    "print(\"Test Accuracy: \",str(round(cmp.count(1)/ len(y_test)*100,2))+\"%\")"
   ]
  },
  {
   "cell_type": "markdown",
   "metadata": {
    "id": "WgIO_diZKYS-"
   },
   "source": [
    "SVM is Good to go"
   ]
  },
  {
   "cell_type": "markdown",
   "metadata": {
    "id": "tSzrNDqpKw_m"
   },
   "source": [
    "Save the model"
   ]
  },
  {
   "cell_type": "code",
   "execution_count": 41,
   "metadata": {
    "ExecuteTime": {
     "end_time": "2024-07-18T15:48:15.250853Z",
     "start_time": "2024-07-18T15:48:15.159156Z"
    },
    "execution": {
     "iopub.execute_input": "2024-05-15T03:23:09.212403Z",
     "iopub.status.busy": "2024-05-15T03:23:09.212095Z",
     "iopub.status.idle": "2024-05-15T03:23:09.223618Z",
     "shell.execute_reply": "2024-05-15T03:23:09.222525Z",
     "shell.execute_reply.started": "2024-05-15T03:23:09.212377Z"
    },
    "id": "TfLPX_ZXKiTb"
   },
   "outputs": [],
   "source": [
    "import pickle\n",
    "pickle.dump(svm_model, open(\"new_model.pkl\", 'wb') )\n",
    "pickle.dump(scaler, open(\"scaler1.pkl\", \"wb\"))"
   ]
  },
  {
   "cell_type": "markdown",
   "metadata": {},
   "source": [
    "### Model Evaluation Metrics"
   ]
  },
  {
   "cell_type": "code",
   "execution_count": 50,
   "metadata": {},
   "outputs": [
    {
     "name": "stdout",
     "output_type": "stream",
     "text": [
      "Accuracy: 0.8896\n",
      "Precision: 0.8491\n",
      "Recall: 0.8333\n",
      "F1 Score: 0.8411\n"
     ]
    }
   ],
   "source": [
    "from sklearn.metrics import accuracy_score, precision_score, recall_score, f1_score, confusion_matrix\n",
    "import seaborn as sns\n",
    "import matplotlib.pyplot as plt\n",
    "\n",
    "# Calculate metrics for SVM model\n",
    "svm_pred = svm_model.predict(X_test)\n",
    "accuracy = accuracy_score(y_test, svm_pred)\n",
    "precision = precision_score(y_test, svm_pred)\n",
    "recall = recall_score(y_test, svm_pred)\n",
    "f1 = f1_score(y_test, svm_pred)\n",
    "\n",
    "print(f\"Accuracy: {accuracy:.4f}\")\n",
    "print(f\"Precision: {precision:.4f}\")\n",
    "print(f\"Recall: {recall:.4f}\")\n",
    "print(f\"F1 Score: {f1:.4f}\")"
   ]
  },
  {
   "cell_type": "markdown",
   "metadata": {},
   "source": [
    "### Confusion Matrix"
   ]
  },
  {
   "cell_type": "code",
   "execution_count": 51,
   "metadata": {},
   "outputs": [
    {
     "data": {
      "image/png": "[encoded data removed]",
      "text/plain": [
       "<Figure size 800x600 with 2 Axes>"
      ]
     },
     "metadata": {},
     "output_type": "display_data"
    }
   ],
   "source": [
    "# Plot confusion matrix\n",
    "plt.figure(figsize=(8, 6))\n",
    "sns.heatmap(confusion_matrix(y_test, svm_pred), annot=True, fmt='d', cmap='Blues')\n",
    "plt.title('Confusion Matrix')\n",
    "plt.ylabel('True Label')\n",
    "plt.xlabel('Predicted Label')\n",
    "plt.show()"
   ]
  },
  {
   "cell_type": "markdown",
   "metadata": {},
   "source": [
    "### Data Visualizations"
   ]
  },
  {
   "cell_type": "code",
   "execution_count": 52,
   "metadata": {},
   "outputs": [
    {
     "data": {
      "image/png": "[encoded data removed]",
      "text/plain": [
       "<Figure size 1200x800 with 2 Axes>"
      ]
     },
     "metadata": {},
     "output_type": "display_data"
    }
   ],
   "source": [
    "# 1. Correlation Heatmap\n",
    "plt.figure(figsize=(12, 8))\n",
    "sns.heatmap(df_nan.corr(), annot=True, cmap='coolwarm', center=0)\n",
    "plt.title('Feature Correlation Heatmap')\n",
    "plt.tight_layout()\n",
    "plt.show()"
   ]
  },
  {
   "cell_type": "code",
   "execution_count": 53,
   "metadata": {},
   "outputs": [
    {
     "data": {
      "image/png": "[encoded data removed]",
      "text/plain": [
       "<Figure size 1500x1000 with 8 Axes>"
      ]
     },
     "metadata": {},
     "output_type": "display_data"
    }
   ],
   "source": [
    "# 2. Distribution of Features\n",
    "plt.figure(figsize=(15, 10))\n",
    "for i, col in enumerate(df_nan.columns[:-1], 1):\n",
    "    plt.subplot(3, 3, i)\n",
    "    sns.histplot(data=df_nan, x=col, hue='Outcome', bins=30)\n",
    "    plt.title(f'{col} Distribution')\n",
    "plt.tight_layout()\n",
    "plt.show()"
   ]
  }
 ],
 "metadata": {
  "colab": {
   "provenance": []
  },
  "kaggle": {
   "accelerator": "none",
   "dataSources": [
    {
     "datasetId": 228,
     "sourceId": 482,
     "sourceType": "datasetVersion"
    }
   ],
   "dockerImageVersionId": 30698,
   "isGpuEnabled": false,
   "isInternetEnabled": false,
   "language": "python",
   "sourceType": "notebook"
  },
  "kernelspec": {
   "display_name": "env",
   "language": "python",
   "name": "python3"
  },
  "language_info": {
   "codemirror_mode": {
    "name": "ipython",
    "version": 3
   },
   "file_extension": ".py",
   "mimetype": "text/x-python",
   "name": "python",
   "nbconvert_exporter": "python",
   "pygments_lexer": "ipython3",
   "version": "3.11.9"
  }
 },
 "nbformat": 4,
 "nbformat_minor": 4
}
